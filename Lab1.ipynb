{
 "cells": [
  {
   "cell_type": "markdown",
   "metadata": {},
   "source": [
    "# Лабораторная работа №2 (Обучение с учителем)"
   ]
  },
  {
   "cell_type": "markdown",
   "metadata": {},
   "source": [
    "## Задание\n",
    "\n",
    "1. Изучить заданный вариантом метод (лог. регрессия / дерево принятия решений / опорных векторов)\n",
    "2. Загрузить набор статей согласно варианту\n",
    "3. Отфильтровать статьи с нужными тегами\n",
    "4. Закодировать статьи согласно варианту (выделение признаков)\n",
    "5. Варьируя заданные параметры модели, найти оптимальные\n",
    "Для этого нужно обучать модель на выборке данных, постепенно изменяя параметры, и запоминая лучший результат на каждом шаге. Обучение необходимо производить методом кросс-валидации.\n",
    "6. Разбить выборку на тренировочную и тестовую и обучить модель с оптимальными параметрами тренировочной выборке. Соотношение размеров тренировочной и полной выборки: 0.7.\n",
    "7. Вывести первые 15 слов, которые модель сочла наиболее информативными. Попытаться понять, к какой категории относится соответствующее слово. Также вывести точность модели."
   ]
  },
  {
   "cell_type": "markdown",
   "metadata": {},
   "source": [
    "### !!!ВАЖНО!!!  \n",
    "* В методе опорных векторов должно использоваться линейное ядро, для того, чтобы впоследствии была возможность определения самых важных признаков.\n",
    "* Корпус Lenta можно скачать по ссылке: https://www.kaggle.com/yutkin/corpus-of-russian-news-articles-from-lenta  \n",
    "    * ТЕГИ корпуса, по которым нужно фильтровать: 'Деньги', 'Театр', 'Оружие', 'Книги', 'Техника'\n",
    "* Корпус 20newsgroups импортится прямо из библиотеки sklearn: \n",
    "```python\n",
    "from sklearn import datasets\n",
    "newsgroups = datasets.fetch_20newsgroups(subset='all', categories=['alt.atheism', 'sci.space', \n",
    "                                                                   'sci.electronics', 'rec.sport.baseball', \n",
    "                                                                   'talk.politics.guns'])\n",
    "```\n",
    "    * ТЕГИ корпуса, по которым нужно фильтровать: 'alt.atheism', 'sci.space', 'sci.electronics', 'rec.sport.baseball', 'talk.politics.guns'\n",
    "* Из корпуса 20newsgroups можно сразу загрузить документы только с нужными тегами, с помощью параметра categories (см. выше)\n",
    "* В случае с корпусом Lenta придется написать код"
   ]
  },
  {
   "cell_type": "markdown",
   "metadata": {},
   "source": [
    "## Варианты\n",
    "\n",
    "|Вариант|Корпус|Модель|Метод выделения признаков|Варьируемые параметры|\n",
    "|-|-|-|-|-|\n",
    "|1|Lenta|Логистическая регрессия|Bag of Words|C|\n",
    "|2|Lenta|Логистическая регрессия|TF-IDF|C|\n",
    "|3|Lenta|Д. П. Р.|Bag of Words|Max Depth|\n",
    "|4|Lenta|Д. П. Р.|TF-IDF|Max Depth|\n",
    "|5|Lenta|Метод Опорных Векторов|Bag of Words|C|\n",
    "|6|Lenta|Метод Опорных Векторов|TF-IDF|C|\n",
    "|7|20newsgroups|Логистическая регрессия|Bag of Words|C|\n",
    "|8|20newsgroups|Логистическая регрессия|TF-IDF|C|\n",
    "|9|20newsgroups|Д. П. Р.|Bag of Words|Max Depth|\n",
    "|10|20newsgroups|Д. П. Р.|TF-IDF|Max Depth|\n",
    "|11|20newsgroups|Метод Опорных Векторов|Bag of Words|C|\n",
    "|12|20newsgroups|Метод Опорных Векторов|TF-IDF|C|\n",
    "\n"
   ]
  },
  {
   "cell_type": "markdown",
   "metadata": {},
   "source": [
    "## Содержание отчета\n",
    "\n",
    "1. Титульный лист\n",
    "2. Текст задания согласно варианту\n",
    "3. Исходный код\n",
    "4. Значение оптимальных параметров\n",
    "5. Точность модели и наиболее информативные слова\n",
    "6. Вывод по работе"
   ]
  },
  {
   "cell_type": "markdown",
   "metadata": {},
   "source": [
    "## Вопросы к защите\n",
    "\n",
    "1. Принцип работы соответствующей модели\n",
    "2. Влияние варьируемых параметров на поведение модели.\n",
    "3. Способы выделения признаков"
   ]
  },
  {
   "cell_type": "markdown",
   "metadata": {},
   "source": [
    "## Инструкция"
   ]
  },
  {
   "cell_type": "markdown",
   "metadata": {},
   "source": [
    "### Загрузка данных и фильтрация"
   ]
  },
  {
   "cell_type": "code",
   "execution_count": 1,
   "metadata": {},
   "outputs": [],
   "source": [
    "from sklearn import datasets\n",
    "data = datasets.fetch_20newsgroups(subset='all', categories=['alt.atheism', 'sci.space', \n",
    "                                                             'sci.electronics', 'rec.sport.baseball', \n",
    "                                                             'talk.politics.guns'],\n",
    "                                  shuffle=True)"
   ]
  },
  {
   "cell_type": "markdown",
   "metadata": {},
   "source": [
    "### Выделение признаков"
   ]
  },
  {
   "cell_type": "code",
   "execution_count": 2,
   "metadata": {},
   "outputs": [],
   "source": [
    "from sklearn.feature_extraction.text import CountVectorizer, TfidfVectorizer\n",
    "vectorizer = CountVectorizer()\n",
    "\n",
    "X = vectorizer.fit_transform(data.data)\n",
    "y = data.target"
   ]
  },
  {
   "cell_type": "code",
   "execution_count": 3,
   "metadata": {
    "scrolled": true
   },
   "outputs": [
    {
     "name": "stdout",
     "output_type": "stream",
     "text": [
      "  (0, 42268)\t1\n",
      "  (0, 9088)\t1\n",
      "  (0, 9216)\t1\n",
      "  (0, 46950)\t1\n",
      "  (0, 46466)\t1\n",
      "  (0, 23853)\t1\n",
      "  (0, 8000)\t1\n",
      "  (0, 614)\t1\n",
      "  (0, 35264)\t1\n",
      "  (0, 32573)\t1\n",
      "  (0, 23748)\t1\n",
      "  (0, 7999)\t1\n",
      "  (0, 21461)\t2\n",
      "  (0, 43000)\t1\n",
      "  (0, 5870)\t1\n",
      "  (0, 43129)\t1\n",
      "  (0, 43816)\t1\n",
      "  (0, 29506)\t1\n",
      "  (0, 29793)\t1\n",
      "  (0, 48059)\t1\n",
      "  (0, 23190)\t1\n",
      "  (0, 30127)\t1\n",
      "  (0, 9900)\t1\n",
      "  (0, 47098)\t1\n",
      "  (0, 20590)\t2\n",
      "  :\t:\n",
      "  (4673, 28192)\t1\n",
      "  (4673, 27366)\t2\n",
      "  (4673, 9216)\t2\n",
      "  (4673, 43000)\t1\n",
      "  (4673, 22146)\t1\n",
      "  (4673, 49322)\t1\n",
      "  (4673, 34104)\t1\n",
      "  (4673, 34949)\t1\n",
      "  (4673, 27441)\t2\n",
      "  (4673, 12728)\t1\n",
      "  (4673, 34771)\t1\n",
      "  (4673, 45817)\t2\n",
      "  (4673, 34783)\t1\n",
      "  (4673, 25005)\t1\n",
      "  (4673, 9268)\t2\n",
      "  (4673, 48515)\t1\n",
      "  (4673, 45823)\t3\n",
      "  (4673, 46303)\t1\n",
      "  (4673, 34996)\t1\n",
      "  (4673, 26281)\t2\n",
      "  (4673, 29868)\t1\n",
      "  (4673, 45503)\t1\n",
      "  (4673, 38900)\t1\n",
      "  (4673, 44451)\t1\n",
      "  (4673, 22505)\t3 [1 3 1 ... 0 4 3]\n"
     ]
    }
   ],
   "source": [
    "print(X, y)"
   ]
  },
  {
   "cell_type": "markdown",
   "metadata": {},
   "source": [
    "### Создание модели"
   ]
  },
  {
   "cell_type": "code",
   "execution_count": 4,
   "metadata": {},
   "outputs": [],
   "source": [
    "from sklearn.svm import SVC # Vector\n",
    "from sklearn.linear_model import LogisticRegression\n",
    "from sklearn.tree import DecisionTreeClassifier\n",
    "\n",
    "model = SVC(kernel='linear')"
   ]
  },
  {
   "cell_type": "markdown",
   "metadata": {},
   "source": [
    "### Нахождение оптимальных параметров модели"
   ]
  },
  {
   "cell_type": "code",
   "execution_count": 9,
   "metadata": {},
   "outputs": [],
   "source": [
    "import numpy as np\n",
    "from sklearn.model_selection import KFold, GridSearchCV\n",
    "\n",
    "variety_grid = {'C': np.power(10.0, np.arange(-5, 6))}\n",
    "# Build cross-validation generator\n",
    "generator = KFold(n_splits=5, shuffle=True)\n",
    "# Now build searcher\n",
    "searcher = GridSearchCV(estimator=model, param_grid=variety_grid, scoring='accuracy', cv=generator)\n",
    "# This will take some time\n",
    "searcher.fit(X, y)\n",
    "\n",
    "best_parameters = searcher.best_params_"
   ]
  },
  {
   "cell_type": "code",
   "execution_count": 6,
   "metadata": {},
   "outputs": [
    {
     "name": "stdout",
     "output_type": "stream",
     "text": [
      "{'C': 1.0}\n"
     ]
    }
   ],
   "source": [
    "best_parameters = {'C': 1.0}\n",
    "print(best_parameters)"
   ]
  },
  {
   "cell_type": "markdown",
   "metadata": {},
   "source": [
    "### Обучение модели с оптимальными параметрами"
   ]
  },
  {
   "cell_type": "code",
   "execution_count": 7,
   "metadata": {},
   "outputs": [
    {
     "name": "stderr",
     "output_type": "stream",
     "text": [
      "D:\\Conda\\lib\\site-packages\\sklearn\\model_selection\\_split.py:2026: FutureWarning: From version 0.21, test_size will always complement train_size unless both are specified.\n",
      "  FutureWarning)\n"
     ]
    },
    {
     "data": {
      "text/plain": [
       "SVC(C=1.0, cache_size=200, class_weight=None, coef0=0.0,\n",
       "  decision_function_shape='ovr', degree=3, gamma='auto', kernel='linear',\n",
       "  max_iter=-1, probability=False, random_state=None, shrinking=True,\n",
       "  tol=0.001, verbose=False)"
      ]
     },
     "execution_count": 7,
     "metadata": {},
     "output_type": "execute_result"
    }
   ],
   "source": [
    "from sklearn.model_selection import train_test_split\n",
    "\n",
    "X_train, X_test, y_train, y_test = train_test_split(X, y, train_size=0.7, shuffle=True)\n",
    "\n",
    "model = SVC(kernel='linear', C=best_parameters['C'])\n",
    "model.fit(X_train, y_train)"
   ]
  },
  {
   "cell_type": "markdown",
   "metadata": {},
   "source": [
    "### Вывод точности модели и топ 10 самых важных слов"
   ]
  },
  {
   "cell_type": "code",
   "execution_count": 10,
   "metadata": {},
   "outputs": [
    {
     "name": "stdout",
     "output_type": "stream",
     "text": [
      "Accuracy: 0.947255880256593\n"
     ]
    },
    {
     "data": {
      "image/png": "[encoded data removed]",
      "text/plain": [
       "<Figure size 432x288 with 1 Axes>"
      ]
     },
     "metadata": {},
     "output_type": "display_data"
    }
   ],
   "source": [
    "from sklearn.metrics import accuracy_score\n",
    "from matplotlib import pyplot as plt\n",
    "import numpy as np\n",
    "\n",
    "predictions = model.predict(X_test)\n",
    "print('Accuracy:', accuracy_score(y_test, predictions))\n",
    "\n",
    "def plot_importances(names, coefs, n=15):\n",
    "    coefs, names = zip(*sorted(zip(coefs, names), reverse=True)[:n])\n",
    "    plt.barh(range(len(names)), coefs, align='center')\n",
    "    plt.yticks(range(len(names)), names)\n",
    "    plt.show()\n",
    "    \n",
    "coefs = np.abs(model.coef_.toarray().flatten())\n",
    "names = vectorizer.get_feature_names()\n",
    "plot_importances(names, coefs)"
   ]
  }
 ],
 "metadata": {
  "kernelspec": {
   "display_name": "Python 3",
   "language": "python",
   "name": "python3"
  },
  "language_info": {
   "codemirror_mode": {
    "name": "ipython",
    "version": 3
   },
   "file_extension": ".py",
   "mimetype": "text/x-python",
   "name": "python",
   "nbconvert_exporter": "python",
   "pygments_lexer": "ipython3",
   "version": "3.6.5"
  }
 },
 "nbformat": 4,
 "nbformat_minor": 2
}

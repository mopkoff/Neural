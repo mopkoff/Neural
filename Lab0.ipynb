{
 "cells": [
  {
   "cell_type": "markdown",
   "metadata": {},
   "source": [
    "# Лабораторная работа №1"
   ]
  },
  {
   "cell_type": "markdown",
   "metadata": {},
   "source": [
    "## Библиотеки\n",
    "В ходе всех лабораторных работ будут использоваться следующие библиотеки:\n",
    "\n",
    "Библиотека|Описание\n",
    "-|-\n",
    "[numpy](http://www.numpy.org/)|Работа с массивами и матрицами\n",
    "[pandas](http://pandas.pydata.org/)|Удобная обработка наборов данных\n",
    "[scikit-learn](https://scikit-learn.org/stable/)|Алгоритмы и методы машинного обучения\n",
    " \n",
    "Если для выполнения какой-либо из лабораторных работ потребуются дополнительные библиотеки, об этом будет сказано в начале тетрадки соответствующей лабораторной работы."
   ]
  },
  {
   "cell_type": "markdown",
   "metadata": {},
   "source": [
    "## Задание\n",
    "Лабораторная работа состоит из нескольких этапов:\n",
    " 1. Загрузить датасет в формате CSV согласно варианту.\n",
    " 2. Произвести согласно варианту:\n",
    "     * Унификацию данных\n",
    "     * Приведение отношений к первой нормальной форме\n",
    "     * Создание признаков\n",
    " 3. Создать простейший линейный классификатор или регрессор и обучить его при следующих условииях:\n",
    "     * По количеству признаков:\n",
    "         * Для обучения использовать только те признаки, которые на Ваш взгляд больше всего влияют на выходной параметр\n",
    "         * Для обучения использовать все признаки\n",
    "     * По применению нормализации:\n",
    "         * С использованием нормализации масштаба\n",
    "         * Без использования нормализации масштаба\n",
    "     * По характеру обучающих и контрольных наборов данных:\n",
    "         * Обучающий набор -- все данные, контрольный -- 1/N часть общего набора\n",
    "         * Обучать на (N-1)/N набора, проверять на оставшейся 1/N части. Данные не перемешивать перед разбиением!\n",
    "         * То же самое, что пункт выше, но с перемешиванием данных.\n",
    "         * Кросс-проверка, с разбиением данных на N наборов.\n",
    "         * N -- согласно варианту\n",
    " 4. Для каждого случая рассмотреть и проанализировать точность обученной модели.\n",
    " \n",
    "Ниже представлена минимальная теоретическая информация, необходимая для выполнения задания, куски кода для примера, а также более детальное пояснение каждого из этапов."
   ]
  },
  {
   "cell_type": "markdown",
   "metadata": {},
   "source": [
    "## Инструкция\n",
    "### Этап 1: Импорт данных\n",
    "Для импорта данных удобно использовать библиотеку pandas.  \n",
    "Чтобы иметь возможность использовать pandas, необходимо выполнить:  "
   ]
  },
  {
   "cell_type": "code",
   "execution_count": 1,
   "metadata": {},
   "outputs": [],
   "source": [
    "import pandas as pd\n",
    "from sklearn import linear_model\n",
    "from sklearn.metrics import accuracy_score\n",
    "from sklearn.preprocessing import StandardScaler\n",
    "import pandas as pd\n",
    "import numpy as np"
   ]
  },
  {
   "cell_type": "markdown",
   "metadata": {},
   "source": [
    "Теперь можно импортировать данные. Так как все наборы данных для данной лабы представлены в формате CSV, можем смело пользоваться методом pandas для считывания данных в формате CSV:  "
   ]
  },
  {
   "cell_type": "code",
   "execution_count": 2,
   "metadata": {},
   "outputs": [],
   "source": [
    "df = pd.read_csv('datasets/titanic.csv')"
   ]
  },
  {
   "cell_type": "markdown",
   "metadata": {},
   "source": [
    "Метод `read_csv()` принимает в качестве аргумента имя файла и кучу других параметров. Подробнее о методе `read_csv()` можно прочитать [здесь](https://pandas.pydata.org/pandas-docs/stable/reference/api/pandas.read_csv.html).  \n",
    "Но что же возвращает этот метод? Он возвращает содержимое файла, упакованное в структуру данных `DataFrame`, которая является  одной из основных в библиотеке pandas.\n",
    "\n",
    "DataFrame -- двумерная структура данных, с размеченными столбцами и строками. По сути, просто таблица с удобным интерфейсом доступа к данным. Ниже перечислены несколько удобных способов доступа к данным:  \n",
    "\n",
    "Способ доступа|Описание|Пример\n",
    "-|-|-\n",
    "`df.head([n])`|Получить первые n строк|`df.head(5)`\n",
    "`df[str]`|Выбрать столбец|`df['sex']`\n",
    "`df.iloc[idx]`|Выбрать строку(и)|`df.iloc[2:6]`\n",
    "`df.at[idx, str]`|Выбрать ячейку|`df.at[4, 'sex']`\n",
    "\n",
    "Изменять данные можно обычным оператором присваивания (=).  \n",
    "Некоторые ресурсы для дальнейшего ознакомления:\n",
    " * [Легкий для чтения гайд по структурам данных в pandas](https://pandas.pydata.org/pandas-docs/stable/getting_started/dsintro.html#dataframe)\n",
    " * [Чуть подробнее про разметку и доступ к данным](https://pandas.pydata.org/pandas-docs/stable/user_guide/indexing.html#indexing)\n",
    " * [Документация по DataFrame](https://pandas.pydata.org/pandas-docs/stable/reference/frame.html)"
   ]
  },
  {
   "cell_type": "markdown",
   "metadata": {},
   "source": [
    "### Этап 2: Предобработка данных\n",
    "Теперь, когда данные загружены в память, можно приступать к их предобработке. \n",
    "Сначала, посмотрим, что же вообще за данные там лежат:"
   ]
  },
  {
   "cell_type": "code",
   "execution_count": 3,
   "metadata": {},
   "outputs": [
    {
     "data": {
      "text/html": [
       "<div>\n",
       "<style scoped>\n",
       "    .dataframe tbody tr th:only-of-type {\n",
       "        vertical-align: middle;\n",
       "    }\n",
       "\n",
       "    .dataframe tbody tr th {\n",
       "        vertical-align: top;\n",
       "    }\n",
       "\n",
       "    .dataframe thead th {\n",
       "        text-align: right;\n",
       "    }\n",
       "</style>\n",
       "<table border=\"1\" class=\"dataframe\">\n",
       "  <thead>\n",
       "    <tr style=\"text-align: right;\">\n",
       "      <th></th>\n",
       "      <th>PassengerId</th>\n",
       "      <th>Survived</th>\n",
       "      <th>Pclass</th>\n",
       "      <th>Name</th>\n",
       "      <th>Sex</th>\n",
       "      <th>Age</th>\n",
       "      <th>SibSp</th>\n",
       "      <th>Parch</th>\n",
       "      <th>Ticket</th>\n",
       "      <th>Fare</th>\n",
       "      <th>Cabin</th>\n",
       "      <th>Embarked</th>\n",
       "    </tr>\n",
       "  </thead>\n",
       "  <tbody>\n",
       "    <tr>\n",
       "      <th>0</th>\n",
       "      <td>1</td>\n",
       "      <td>0</td>\n",
       "      <td>3</td>\n",
       "      <td>Braund, Mr. Owen Harris</td>\n",
       "      <td>male</td>\n",
       "      <td>22.0</td>\n",
       "      <td>1</td>\n",
       "      <td>0</td>\n",
       "      <td>A/5 21171</td>\n",
       "      <td>7.2500</td>\n",
       "      <td>NaN</td>\n",
       "      <td>S</td>\n",
       "    </tr>\n",
       "    <tr>\n",
       "      <th>1</th>\n",
       "      <td>2</td>\n",
       "      <td>1</td>\n",
       "      <td>1</td>\n",
       "      <td>Cumings, Mrs. John Bradley (Florence Briggs Th...</td>\n",
       "      <td>female</td>\n",
       "      <td>38.0</td>\n",
       "      <td>1</td>\n",
       "      <td>0</td>\n",
       "      <td>PC 17599</td>\n",
       "      <td>71.2833</td>\n",
       "      <td>C85</td>\n",
       "      <td>C</td>\n",
       "    </tr>\n",
       "    <tr>\n",
       "      <th>2</th>\n",
       "      <td>3</td>\n",
       "      <td>1</td>\n",
       "      <td>3</td>\n",
       "      <td>Heikkinen, Miss. Laina</td>\n",
       "      <td>female</td>\n",
       "      <td>26.0</td>\n",
       "      <td>0</td>\n",
       "      <td>0</td>\n",
       "      <td>STON/O2. 3101282</td>\n",
       "      <td>7.9250</td>\n",
       "      <td>NaN</td>\n",
       "      <td>S</td>\n",
       "    </tr>\n",
       "    <tr>\n",
       "      <th>3</th>\n",
       "      <td>4</td>\n",
       "      <td>1</td>\n",
       "      <td>1</td>\n",
       "      <td>Futrelle, Mrs. Jacques Heath (Lily May Peel)</td>\n",
       "      <td>female</td>\n",
       "      <td>35.0</td>\n",
       "      <td>1</td>\n",
       "      <td>0</td>\n",
       "      <td>113803</td>\n",
       "      <td>53.1000</td>\n",
       "      <td>C123</td>\n",
       "      <td>S</td>\n",
       "    </tr>\n",
       "    <tr>\n",
       "      <th>4</th>\n",
       "      <td>5</td>\n",
       "      <td>0</td>\n",
       "      <td>3</td>\n",
       "      <td>Allen, Mr. William Henry</td>\n",
       "      <td>male</td>\n",
       "      <td>35.0</td>\n",
       "      <td>0</td>\n",
       "      <td>0</td>\n",
       "      <td>373450</td>\n",
       "      <td>8.0500</td>\n",
       "      <td>NaN</td>\n",
       "      <td>S</td>\n",
       "    </tr>\n",
       "  </tbody>\n",
       "</table>\n",
       "</div>"
      ],
      "text/plain": [
       "   PassengerId  Survived  Pclass  \\\n",
       "0            1         0       3   \n",
       "1            2         1       1   \n",
       "2            3         1       3   \n",
       "3            4         1       1   \n",
       "4            5         0       3   \n",
       "\n",
       "                                                Name     Sex   Age  SibSp  \\\n",
       "0                            Braund, Mr. Owen Harris    male  22.0      1   \n",
       "1  Cumings, Mrs. John Bradley (Florence Briggs Th...  female  38.0      1   \n",
       "2                             Heikkinen, Miss. Laina  female  26.0      0   \n",
       "3       Futrelle, Mrs. Jacques Heath (Lily May Peel)  female  35.0      1   \n",
       "4                           Allen, Mr. William Henry    male  35.0      0   \n",
       "\n",
       "   Parch            Ticket     Fare Cabin Embarked  \n",
       "0      0         A/5 21171   7.2500   NaN        S  \n",
       "1      0          PC 17599  71.2833   C85        C  \n",
       "2      0  STON/O2. 3101282   7.9250   NaN        S  \n",
       "3      0            113803  53.1000  C123        S  \n",
       "4      0            373450   8.0500   NaN        S  "
      ]
     },
     "execution_count": 3,
     "metadata": {},
     "output_type": "execute_result"
    }
   ],
   "source": [
    "df.head()"
   ]
  },
  {
   "cell_type": "markdown",
   "metadata": {},
   "source": [
    "Видим, что данные в столбце \"пол\" не унифицированы. То бишь, один и тот же пол может обозоначаться как \"male\", \"Male\", \"MALE\" и т. д.  \n",
    "Такая ситуация крайне нежелательна, и от этого нужно избавляться.  \n",
    "Кроме того, модель на вход принимает только числовые, так что каждому полу нужно сопоставить некоторое целое число, и преобразовать столбец пола нужным образом.  \n",
    "Более подробно о том, что именно необходимо сделать на данном этапе, см. ниже в таблице вариантов."
   ]
  },
  {
   "cell_type": "code",
   "execution_count": null,
   "metadata": {},
   "outputs": [],
   "source": [
    "def unify_sex(df: pd.DataFrame) -> pd.DataFrame:\n",
    "    df['Sex'] = df['Sex'].apply(lambda x: 0 if x == 'male' else 1 if x == 'female' else 2)\n",
    "    # Implement this\n",
    "    return df\n",
    "\n",
    "df = unify(df)\n",
    "df.head()"
   ]
  },
  {
   "cell_type": "markdown",
   "metadata": {},
   "source": [
    "Сделаем разбивку на тестовые и тренировочные данные"
   ]
  },
  {
   "cell_type": "code",
   "execution_count": null,
   "metadata": {},
   "outputs": [],
   "source": [
    "# Перемешаем данные\n",
    "data = np.asarray(df.sample(frac=1), dtype=np.float64)\n",
    "\n",
    "# Определяем точку надреза\n",
    "size = len(df)\n",
    "test_slice = int(size / 10)\n",
    "\n",
    "X_train = data[test_slice:, :-1]\n",
    "y_train = data[test_slice:, -1]\n",
    "\n",
    "X_test = data[:test_slice, :-1]\n",
    "y_test = data[:test_slice, -1]\n",
    "\n",
    "# Не забывайте, что в реальном задании небходимо использовать кросс-валидацию!"
   ]
  },
  {
   "cell_type": "markdown",
   "metadata": {},
   "source": [
    "Проведем нормализацию масштаба данных"
   ]
  },
  {
   "cell_type": "code",
   "execution_count": 4,
   "metadata": {},
   "outputs": [
    {
     "data": {
      "text/html": [
       "<div>\n",
       "<style scoped>\n",
       "    .dataframe tbody tr th:only-of-type {\n",
       "        vertical-align: middle;\n",
       "    }\n",
       "\n",
       "    .dataframe tbody tr th {\n",
       "        vertical-align: top;\n",
       "    }\n",
       "\n",
       "    .dataframe thead th {\n",
       "        text-align: right;\n",
       "    }\n",
       "</style>\n",
       "<table border=\"1\" class=\"dataframe\">\n",
       "  <thead>\n",
       "    <tr style=\"text-align: right;\">\n",
       "      <th></th>\n",
       "      <th>PassengerId</th>\n",
       "      <th>Survived</th>\n",
       "      <th>Pclass</th>\n",
       "      <th>Name</th>\n",
       "      <th>Sex</th>\n",
       "      <th>Age</th>\n",
       "      <th>SibSp</th>\n",
       "      <th>Parch</th>\n",
       "      <th>Ticket</th>\n",
       "      <th>Fare</th>\n",
       "      <th>Cabin</th>\n",
       "      <th>Embarked</th>\n",
       "    </tr>\n",
       "  </thead>\n",
       "  <tbody>\n",
       "    <tr>\n",
       "      <th>0</th>\n",
       "      <td>1</td>\n",
       "      <td>0</td>\n",
       "      <td>3</td>\n",
       "      <td>Braund, Mr. Owen Harris</td>\n",
       "      <td>0</td>\n",
       "      <td>22.0</td>\n",
       "      <td>1</td>\n",
       "      <td>0</td>\n",
       "      <td>A/5 21171</td>\n",
       "      <td>7.2500</td>\n",
       "      <td>NaN</td>\n",
       "      <td>S</td>\n",
       "    </tr>\n",
       "    <tr>\n",
       "      <th>1</th>\n",
       "      <td>2</td>\n",
       "      <td>1</td>\n",
       "      <td>1</td>\n",
       "      <td>Cumings, Mrs. John Bradley (Florence Briggs Th...</td>\n",
       "      <td>1</td>\n",
       "      <td>38.0</td>\n",
       "      <td>1</td>\n",
       "      <td>0</td>\n",
       "      <td>PC 17599</td>\n",
       "      <td>71.2833</td>\n",
       "      <td>C85</td>\n",
       "      <td>C</td>\n",
       "    </tr>\n",
       "    <tr>\n",
       "      <th>2</th>\n",
       "      <td>3</td>\n",
       "      <td>1</td>\n",
       "      <td>3</td>\n",
       "      <td>Heikkinen, Miss. Laina</td>\n",
       "      <td>1</td>\n",
       "      <td>26.0</td>\n",
       "      <td>0</td>\n",
       "      <td>0</td>\n",
       "      <td>STON/O2. 3101282</td>\n",
       "      <td>7.9250</td>\n",
       "      <td>NaN</td>\n",
       "      <td>S</td>\n",
       "    </tr>\n",
       "    <tr>\n",
       "      <th>3</th>\n",
       "      <td>4</td>\n",
       "      <td>1</td>\n",
       "      <td>1</td>\n",
       "      <td>Futrelle, Mrs. Jacques Heath (Lily May Peel)</td>\n",
       "      <td>1</td>\n",
       "      <td>35.0</td>\n",
       "      <td>1</td>\n",
       "      <td>0</td>\n",
       "      <td>113803</td>\n",
       "      <td>53.1000</td>\n",
       "      <td>C123</td>\n",
       "      <td>S</td>\n",
       "    </tr>\n",
       "    <tr>\n",
       "      <th>4</th>\n",
       "      <td>5</td>\n",
       "      <td>0</td>\n",
       "      <td>3</td>\n",
       "      <td>Allen, Mr. William Henry</td>\n",
       "      <td>0</td>\n",
       "      <td>35.0</td>\n",
       "      <td>0</td>\n",
       "      <td>0</td>\n",
       "      <td>373450</td>\n",
       "      <td>8.0500</td>\n",
       "      <td>NaN</td>\n",
       "      <td>S</td>\n",
       "    </tr>\n",
       "  </tbody>\n",
       "</table>\n",
       "</div>"
      ],
      "text/plain": [
       "   PassengerId  Survived  Pclass  \\\n",
       "0            1         0       3   \n",
       "1            2         1       1   \n",
       "2            3         1       3   \n",
       "3            4         1       1   \n",
       "4            5         0       3   \n",
       "\n",
       "                                                Name  Sex   Age  SibSp  Parch  \\\n",
       "0                            Braund, Mr. Owen Harris    0  22.0      1      0   \n",
       "1  Cumings, Mrs. John Bradley (Florence Briggs Th...    1  38.0      1      0   \n",
       "2                             Heikkinen, Miss. Laina    1  26.0      0      0   \n",
       "3       Futrelle, Mrs. Jacques Heath (Lily May Peel)    1  35.0      1      0   \n",
       "4                           Allen, Mr. William Henry    0  35.0      0      0   \n",
       "\n",
       "             Ticket     Fare Cabin Embarked  \n",
       "0         A/5 21171   7.2500   NaN        S  \n",
       "1          PC 17599  71.2833   C85        C  \n",
       "2  STON/O2. 3101282   7.9250   NaN        S  \n",
       "3            113803  53.1000  C123        S  \n",
       "4            373450   8.0500   NaN        S  "
      ]
     },
     "execution_count": 4,
     "metadata": {},
     "output_type": "execute_result"
    }
   ],
   "source": [
    "scaler = StandardScaler()\n",
    "X_train_scaled = scaler.fit_transform(X_train)\n",
    "X_test_scaled = scaler.transform(X_test)"
   ]
  },
  {
   "cell_type": "markdown",
   "metadata": {},
   "source": [
    "### Этап 3: Создание и обучение линейной модели"
   ]
  },
  {
   "cell_type": "code",
   "execution_count": null,
   "metadata": {},
   "outputs": [],
   "source": [
    "# Загрузим данные\n",
    "# df = pd.read_csv('datasets/boston_housing.csv')"
   ]
  },
  {
   "cell_type": "code",
   "execution_count": null,
   "metadata": {},
   "outputs": [],
   "source": [
    "# Для задач регрессии\n",
    "regressor = linear_model.LinearRegression()\n",
    "regressor.fit(X=X_train_scaled, y=y_train)\n",
    "# Для задач классификации\n",
    "# classifier = linear_model.Perceptron()\n",
    "# classifier.fit(X=X_train_scaled, y=y_train)"
   ]
  },
  {
   "cell_type": "markdown",
   "metadata": {},
   "source": [
    "### Этап 4: Оценка качества модели"
   ]
  },
  {
   "cell_type": "code",
   "execution_count": null,
   "metadata": {},
   "outputs": [],
   "source": [
    "regressor.score(X=X_test_scaled, y=y_test)\n",
    "# ИЛИ\n",
    "# predictions = clf.predict(X_test_scaled)\n",
    "# accuracy_score(y_test, predictions)"
   ]
  },
  {
   "cell_type": "markdown",
   "metadata": {},
   "source": [
    "## Варианты"
   ]
  },
  {
   "cell_type": "markdown",
   "metadata": {},
   "source": [
    "| Вариант| Датасет   | Создаваемые признаки/Унификация | N   | Результат |\n",
    "|-|-|-|-|-|\n",
    "| 1 | mushroom.csv | -/odor | 5 | Съедобность гриба |\n",
    "| 2 | boston_housing.csv | -/- | 6 | Стоимость дома |\n",
    "| 3 | students.csv | Удалить первый столбец (порядковый номер)/sex | 4 | Склонность к употреблению спиртного  |\n",
    "| 4 | adult.csv | -/sex | 5 | Размер зарплаты |\n",
    "| 5 | wines.csv | Классифицировать содержание сахара(сухое, полусухое, ...)/- | 5 | Вкусовые качества вина |\n",
    "| 6 | titanic.csv | -/sex | 3 | Выжил ли пассажир |\n"
   ]
  },
  {
   "cell_type": "markdown",
   "metadata": {},
   "source": [
    "## Содержание отчета\n",
    "\n",
    "1. Титульный лист\n",
    "2. Текст задания согласно варианту\n",
    "3. Исходный код\n",
    "4. Результаты различных моделей и анализ результатов\n",
    "5. Вывод по работе"
   ]
  },
  {
   "cell_type": "markdown",
   "metadata": {},
   "source": [
    "## Вопросы к защите\n",
    "\n",
    "1. Что понимается под предобработкой данных и зачем она нужна?\n",
    "2. Loss function, Q function\n",
    "3. Кросс-валидация\n",
    "4. Метрики(precision, recall, F-measure)\n",
    "5. Что понимается под признаком в терминах машинного обучения и какие виды признаков бывают?"
   ]
  },
  {
   "cell_type": "code",
   "execution_count": null,
   "metadata": {},
   "outputs": [],
   "source": []
  }
 ],
 "metadata": {
  "kernelspec": {
   "display_name": "Python 3",
   "language": "python",
   "name": "python3"
  },
  "language_info": {
   "codemirror_mode": {
    "name": "ipython",
    "version": 3
   },
   "file_extension": ".py",
   "mimetype": "text/x-python",
   "name": "python",
   "nbconvert_exporter": "python",
   "pygments_lexer": "ipython3",
   "version": "3.7.2"
  }
 },
 "nbformat": 4,
 "nbformat_minor": 2
}
